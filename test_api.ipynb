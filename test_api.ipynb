{
 "cells": [
  {
   "cell_type": "code",
   "execution_count": 1,
   "id": "24bf26f6-2f6b-4c72-8f75-8b133127d46c",
   "metadata": {},
   "outputs": [
    {
     "name": "stdout",
     "output_type": "stream",
     "text": [
      "Writing test_api.py\n"
     ]
    }
   ],
   "source": [
    "%%writefile test_api.py\n",
    "\n",
    "import requests\n",
    "\n",
    "url = 'http://127.0.0.1:5000/predict'\n",
    "\n",
    "# A sample normal transaction from the dataset\n",
    "sample_transaction = {\n",
    "    \"Time\": 406, \"V1\": -2.312227, \"V2\": 1.951992, \"V3\": -1.609851, \n",
    "    \"V4\": 3.997906, \"V5\": -0.522188, \"V6\": -1.426545, \"V7\": -2.537387, \n",
    "    \"V8\": 1.391657, \"V9\": -2.770089, \"V10\": -2.772272, \"V11\": 3.202033, \n",
    "    \"V12\": -2.899907, \"V13\": -0.595222, \"V14\": -4.289254, \"V15\": 0.389724, \n",
    "    \"V16\": -1.140747, \"V17\": -2.830056, \"V18\": -0.016822, \"V19\": 0.416956, \n",
    "    \"V20\": 0.126911, \"V21\": 0.517232, \"V22\": -0.035049, \"V23\": -0.465211, \n",
    "    \"V24\": 0.320198, \"V25\": 0.044519, \"V26\": 0.17784, \"V27\": 0.261145, \n",
    "    \"V28\": -0.143276, \"Amount\": 0.00\n",
    "}\n",
    "\n",
    "response = requests.post(url, json=sample_transaction)\n",
    "\n",
    "print(\"Server Response:\", response.json())"
   ]
  }
 ],
 "metadata": {
  "kernelspec": {
   "display_name": "Python 3 (ipykernel)",
   "language": "python",
   "name": "python3"
  },
  "language_info": {
   "codemirror_mode": {
    "name": "ipython",
    "version": 3
   },
   "file_extension": ".py",
   "mimetype": "text/x-python",
   "name": "python",
   "nbconvert_exporter": "python",
   "pygments_lexer": "ipython3",
   "version": "3.12.4"
  }
 },
 "nbformat": 4,
 "nbformat_minor": 5
}
