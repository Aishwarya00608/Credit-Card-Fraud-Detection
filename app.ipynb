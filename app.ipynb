{
 "cells": [
  {
   "cell_type": "code",
   "execution_count": 3,
   "id": "68d2bc52-1e8e-4ca1-8846-68bcd6030a13",
   "metadata": {},
   "outputs": [
    {
     "name": "stdout",
     "output_type": "stream",
     "text": [
      "Overwriting app.py\n"
     ]
    }
   ],
   "source": [
    "%%writefile app.py\n",
    "\n",
    "from flask import Flask, request, jsonify\n",
    "import joblib\n",
    "import pandas as pd\n",
    "import numpy as np\n",
    "\n",
    "app = Flask(__name__)\n",
    "\n",
    "# Load the trained model and scaler\n",
    "model = joblib.load('fraud_model.pkl')\n",
    "scaler = joblib.load('scaler.pkl')\n",
    "\n",
    "@app.route('/predict', methods=['POST'])\n",
    "def predict():\n",
    "    # Get the data from the POST request\n",
    "    data = request.get_json(force=True)\n",
    "    \n",
    "    # Convert input data into a pandas DataFrame\n",
    "    transaction = pd.DataFrame(data, index=[0])\n",
    "    \n",
    "    # --- Preprocessing Steps ---\n",
    "    transaction['scaled_amount'] = scaler.transform(transaction['Amount'].values.reshape(-1, 1))\n",
    "    transaction['scaled_time'] = scaler.transform(transaction['Time'].values.reshape(-1, 1))\n",
    "    transaction.drop(['Time', 'Amount'], axis=1, inplace=True)\n",
    "    \n",
    "    # --- Prediction ---\n",
    "    prediction = model.predict(transaction)\n",
    "    prediction_proba = model.predict_proba(transaction)\n",
    "\n",
    "    # --- Create Response ---\n",
    "    if prediction[0] == 1:\n",
    "        response = {\n",
    "            'status': 'alert',\n",
    "            'message': 'Fraudulent Transaction Detected!',\n",
    "            'fraud_probability': f\"{prediction_proba[0][1]:.2%}\"\n",
    "        }\n",
    "    else:\n",
    "        response = {\n",
    "            'status': 'ok',\n",
    "            'message': 'Transaction is Normal.',\n",
    "            'fraud_probability': f\"{prediction_proba[0][1]:.2%}\"\n",
    "        }\n",
    "        \n",
    "    return jsonify(response)\n",
    "\n",
    "if __name__ == '__main__':\n",
    "    app.run(port=5000)"
   ]
  },
  {
   "cell_type": "code",
   "execution_count": null,
   "id": "be9650d7-14be-4447-a1bd-05a9d43719f0",
   "metadata": {},
   "outputs": [],
   "source": []
  }
 ],
 "metadata": {
  "kernelspec": {
   "display_name": "Python 3 (ipykernel)",
   "language": "python",
   "name": "python3"
  },
  "language_info": {
   "codemirror_mode": {
    "name": "ipython",
    "version": 3
   },
   "file_extension": ".py",
   "mimetype": "text/x-python",
   "name": "python",
   "nbconvert_exporter": "python",
   "pygments_lexer": "ipython3",
   "version": "3.12.4"
  }
 },
 "nbformat": 4,
 "nbformat_minor": 5
}
